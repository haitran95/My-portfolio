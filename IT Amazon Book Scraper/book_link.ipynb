{
 "cells": [
  {
   "cell_type": "code",
   "execution_count": 69,
   "id": "fc3e8979",
   "metadata": {},
   "outputs": [],
   "source": [
    "import time\n",
    "import re\n",
    "import pandas as pd \n",
    "from urllib.request import Request, urlopen\n",
    "import requests\n",
    "from selenium import webdriver\n",
    "from selenium.webdriver.common.keys import Keys\n",
    "from selenium.webdriver.common.action_chains import ActionChains\n",
    "from selenium.common.exceptions import (ElementClickInterceptedException,\n",
    "                                        ElementNotInteractableException,\n",
    "                                        NoSuchElementException,\n",
    "                                        NoSuchWindowException,\n",
    "                                        WebDriverException)\n",
    "from selenium.webdriver.common.by import By"
   ]
  },
  {
   "cell_type": "code",
   "execution_count": 70,
   "id": "bc295191",
   "metadata": {},
   "outputs": [],
   "source": [
    "pd.set_option('display.max_column',None)\n",
    "driver = webdriver.Chrome()"
   ]
  },
  {
   "cell_type": "code",
   "execution_count": 71,
   "id": "11964156",
   "metadata": {},
   "outputs": [
    {
     "data": {
      "text/plain": [
       "'meta title test US'"
      ]
     },
     "execution_count": 71,
     "metadata": {},
     "output_type": "execute_result"
    }
   ],
   "source": [
    "# Get one page by URL\n",
    "url = 'https://www.amazon.com/s?bbn=1000&rh=n%3A283155%2Cn%3A5&dc&qid=1677998354&rnid=1000&ref=lp_1000_nr_n_7'\n",
    "driver.get(url) \n",
    "driver.refresh()\n",
    "# time.sleep(5)\n",
    "driver.title"
   ]
  },
  {
   "cell_type": "markdown",
   "id": "7e02c98a",
   "metadata": {},
   "source": [
    "## get category "
   ]
  },
  {
   "cell_type": "code",
   "execution_count": 72,
   "id": "7ac8ae4e",
   "metadata": {},
   "outputs": [],
   "source": [
    "# loop to get category \n",
    "name = []\n",
    "res_link = []\n",
    "for i  in range(3,21):\n",
    "    category_name = driver.find_elements(By.XPATH,f'//*[@id=\"s-refinements\"]/div[4]/ul/li[{i}]/span/a')\n",
    "    category_name = [x.text for x  in category_name]\n",
    "    name += category_name\n",
    "    # get url \n",
    "    link = driver.find_elements(By.XPATH,f'//*[@id=\"s-refinements\"]/div[4]/ul/li[{i}]/span/a')\n",
    "    link = [x.get_attribute(\"href\") for x  in link]\n",
    "    res_link += link\n",
    "  \n",
    "\n",
    "df = df = pd.DataFrame(list(zip(name, res_link)), columns = ['category_name', 'link'])\n",
    "df.to_csv('category.csv')                   \n",
    "# Đóng trình duyệt\n",
    "# driver.quit()"
   ]
  },
  {
   "cell_type": "code",
   "execution_count": 73,
   "id": "fcd0e2c8",
   "metadata": {},
   "outputs": [
    {
     "data": {
      "text/html": [
       "<div>\n",
       "<style scoped>\n",
       "    .dataframe tbody tr th:only-of-type {\n",
       "        vertical-align: middle;\n",
       "    }\n",
       "\n",
       "    .dataframe tbody tr th {\n",
       "        vertical-align: top;\n",
       "    }\n",
       "\n",
       "    .dataframe thead th {\n",
       "        text-align: right;\n",
       "    }\n",
       "</style>\n",
       "<table border=\"1\" class=\"dataframe\">\n",
       "  <thead>\n",
       "    <tr style=\"text-align: right;\">\n",
       "      <th></th>\n",
       "      <th>category_name</th>\n",
       "      <th>link</th>\n",
       "    </tr>\n",
       "  </thead>\n",
       "  <tbody>\n",
       "    <tr>\n",
       "      <th>0</th>\n",
       "      <td>Business Technology</td>\n",
       "      <td>https://www.amazon.com/s?bbn=5&amp;rh=n%3A283155%2...</td>\n",
       "    </tr>\n",
       "    <tr>\n",
       "      <th>1</th>\n",
       "      <td>Certification</td>\n",
       "      <td>https://www.amazon.com/s?bbn=5&amp;rh=n%3A283155%2...</td>\n",
       "    </tr>\n",
       "    <tr>\n",
       "      <th>2</th>\n",
       "      <td>Computer Science</td>\n",
       "      <td>https://www.amazon.com/s?bbn=5&amp;rh=n%3A283155%2...</td>\n",
       "    </tr>\n",
       "    <tr>\n",
       "      <th>3</th>\n",
       "      <td>Databases &amp; Big Data</td>\n",
       "      <td>https://www.amazon.com/s?bbn=5&amp;rh=n%3A283155%2...</td>\n",
       "    </tr>\n",
       "    <tr>\n",
       "      <th>4</th>\n",
       "      <td>Digital Audio, Video &amp; Photography</td>\n",
       "      <td>https://www.amazon.com/s?bbn=5&amp;rh=n%3A283155%2...</td>\n",
       "    </tr>\n",
       "    <tr>\n",
       "      <th>5</th>\n",
       "      <td>Games &amp; Strategy Guides</td>\n",
       "      <td>https://www.amazon.com/s?bbn=5&amp;rh=n%3A283155%2...</td>\n",
       "    </tr>\n",
       "    <tr>\n",
       "      <th>6</th>\n",
       "      <td>Graphics &amp; Design</td>\n",
       "      <td>https://www.amazon.com/s?bbn=5&amp;rh=n%3A283155%2...</td>\n",
       "    </tr>\n",
       "    <tr>\n",
       "      <th>7</th>\n",
       "      <td>Hardware &amp; DIY</td>\n",
       "      <td>https://www.amazon.com/s?bbn=5&amp;rh=n%3A283155%2...</td>\n",
       "    </tr>\n",
       "    <tr>\n",
       "      <th>8</th>\n",
       "      <td>History &amp; Culture</td>\n",
       "      <td>https://www.amazon.com/s?bbn=5&amp;rh=n%3A283155%2...</td>\n",
       "    </tr>\n",
       "    <tr>\n",
       "      <th>9</th>\n",
       "      <td>Internet &amp; Social Media</td>\n",
       "      <td>https://www.amazon.com/s?bbn=5&amp;rh=n%3A283155%2...</td>\n",
       "    </tr>\n",
       "    <tr>\n",
       "      <th>10</th>\n",
       "      <td>Mobile Phones, Tablets &amp; E-Readers</td>\n",
       "      <td>https://www.amazon.com/s?bbn=5&amp;rh=n%3A283155%2...</td>\n",
       "    </tr>\n",
       "    <tr>\n",
       "      <th>11</th>\n",
       "      <td>Networking &amp; Cloud Computing</td>\n",
       "      <td>https://www.amazon.com/s?bbn=5&amp;rh=n%3A283155%2...</td>\n",
       "    </tr>\n",
       "    <tr>\n",
       "      <th>12</th>\n",
       "      <td>Operating Systems</td>\n",
       "      <td>https://www.amazon.com/s?bbn=5&amp;rh=n%3A283155%2...</td>\n",
       "    </tr>\n",
       "    <tr>\n",
       "      <th>13</th>\n",
       "      <td>Programming</td>\n",
       "      <td>https://www.amazon.com/s?bbn=5&amp;rh=n%3A283155%2...</td>\n",
       "    </tr>\n",
       "    <tr>\n",
       "      <th>14</th>\n",
       "      <td>Programming Languages</td>\n",
       "      <td>https://www.amazon.com/s?bbn=5&amp;rh=n%3A283155%2...</td>\n",
       "    </tr>\n",
       "    <tr>\n",
       "      <th>15</th>\n",
       "      <td>Security &amp; Encryption</td>\n",
       "      <td>https://www.amazon.com/s?bbn=5&amp;rh=n%3A283155%2...</td>\n",
       "    </tr>\n",
       "    <tr>\n",
       "      <th>16</th>\n",
       "      <td>Software</td>\n",
       "      <td>https://www.amazon.com/s?bbn=5&amp;rh=n%3A283155%2...</td>\n",
       "    </tr>\n",
       "    <tr>\n",
       "      <th>17</th>\n",
       "      <td>Web Development &amp; Design</td>\n",
       "      <td>https://www.amazon.com/s?bbn=5&amp;rh=n%3A283155%2...</td>\n",
       "    </tr>\n",
       "  </tbody>\n",
       "</table>\n",
       "</div>"
      ],
      "text/plain": [
       "                         category_name  \\\n",
       "0                  Business Technology   \n",
       "1                        Certification   \n",
       "2                     Computer Science   \n",
       "3                 Databases & Big Data   \n",
       "4   Digital Audio, Video & Photography   \n",
       "5              Games & Strategy Guides   \n",
       "6                    Graphics & Design   \n",
       "7                       Hardware & DIY   \n",
       "8                    History & Culture   \n",
       "9              Internet & Social Media   \n",
       "10  Mobile Phones, Tablets & E-Readers   \n",
       "11        Networking & Cloud Computing   \n",
       "12                   Operating Systems   \n",
       "13                         Programming   \n",
       "14               Programming Languages   \n",
       "15               Security & Encryption   \n",
       "16                            Software   \n",
       "17            Web Development & Design   \n",
       "\n",
       "                                                 link  \n",
       "0   https://www.amazon.com/s?bbn=5&rh=n%3A283155%2...  \n",
       "1   https://www.amazon.com/s?bbn=5&rh=n%3A283155%2...  \n",
       "2   https://www.amazon.com/s?bbn=5&rh=n%3A283155%2...  \n",
       "3   https://www.amazon.com/s?bbn=5&rh=n%3A283155%2...  \n",
       "4   https://www.amazon.com/s?bbn=5&rh=n%3A283155%2...  \n",
       "5   https://www.amazon.com/s?bbn=5&rh=n%3A283155%2...  \n",
       "6   https://www.amazon.com/s?bbn=5&rh=n%3A283155%2...  \n",
       "7   https://www.amazon.com/s?bbn=5&rh=n%3A283155%2...  \n",
       "8   https://www.amazon.com/s?bbn=5&rh=n%3A283155%2...  \n",
       "9   https://www.amazon.com/s?bbn=5&rh=n%3A283155%2...  \n",
       "10  https://www.amazon.com/s?bbn=5&rh=n%3A283155%2...  \n",
       "11  https://www.amazon.com/s?bbn=5&rh=n%3A283155%2...  \n",
       "12  https://www.amazon.com/s?bbn=5&rh=n%3A283155%2...  \n",
       "13  https://www.amazon.com/s?bbn=5&rh=n%3A283155%2...  \n",
       "14  https://www.amazon.com/s?bbn=5&rh=n%3A283155%2...  \n",
       "15  https://www.amazon.com/s?bbn=5&rh=n%3A283155%2...  \n",
       "16  https://www.amazon.com/s?bbn=5&rh=n%3A283155%2...  \n",
       "17  https://www.amazon.com/s?bbn=5&rh=n%3A283155%2...  "
      ]
     },
     "execution_count": 73,
     "metadata": {},
     "output_type": "execute_result"
    }
   ],
   "source": [
    "df"
   ]
  },
  {
   "cell_type": "code",
   "execution_count": 74,
   "id": "98a8d77d",
   "metadata": {},
   "outputs": [
    {
     "data": {
      "text/plain": [
       "0     https://www.amazon.com/s?bbn=5&rh=n%3A283155%2...\n",
       "1     https://www.amazon.com/s?bbn=5&rh=n%3A283155%2...\n",
       "2     https://www.amazon.com/s?bbn=5&rh=n%3A283155%2...\n",
       "3     https://www.amazon.com/s?bbn=5&rh=n%3A283155%2...\n",
       "4     https://www.amazon.com/s?bbn=5&rh=n%3A283155%2...\n",
       "5     https://www.amazon.com/s?bbn=5&rh=n%3A283155%2...\n",
       "6     https://www.amazon.com/s?bbn=5&rh=n%3A283155%2...\n",
       "7     https://www.amazon.com/s?bbn=5&rh=n%3A283155%2...\n",
       "8     https://www.amazon.com/s?bbn=5&rh=n%3A283155%2...\n",
       "9     https://www.amazon.com/s?bbn=5&rh=n%3A283155%2...\n",
       "10    https://www.amazon.com/s?bbn=5&rh=n%3A283155%2...\n",
       "11    https://www.amazon.com/s?bbn=5&rh=n%3A283155%2...\n",
       "12    https://www.amazon.com/s?bbn=5&rh=n%3A283155%2...\n",
       "13    https://www.amazon.com/s?bbn=5&rh=n%3A283155%2...\n",
       "14    https://www.amazon.com/s?bbn=5&rh=n%3A283155%2...\n",
       "15    https://www.amazon.com/s?bbn=5&rh=n%3A283155%2...\n",
       "16    https://www.amazon.com/s?bbn=5&rh=n%3A283155%2...\n",
       "17    https://www.amazon.com/s?bbn=5&rh=n%3A283155%2...\n",
       "Name: link, dtype: object"
      ]
     },
     "execution_count": 74,
     "metadata": {},
     "output_type": "execute_result"
    }
   ],
   "source": [
    "df['link']"
   ]
  },
  {
   "cell_type": "code",
   "execution_count": 79,
   "id": "3fec2f05",
   "metadata": {},
   "outputs": [],
   "source": [
    "category_url = []\n",
    "for item in df['link']:\n",
    "    url = item \n",
    "    driver.get(url) \n",
    "    driver.refresh()\n",
    "    time.sleep(5)\n",
    "    \n",
    "    actions = ActionChains(driver)\n",
    "    for _ in range(2):\n",
    "        actions.send_keys(Keys.SPACE).perform()\n",
    "        time.sleep(4)\n",
    "    see_button = driver.find_element(By.LINK_TEXT, 'See all results')\n",
    "    see_button.click()\n",
    "    time.sleep(3)  # chờ trang web tải và hiển thị dữ liệu mới\n",
    "    \n",
    "    new_url = driver.current_url\n",
    "    category_url.append(new_url)\n",
    "    \n",
    "df['category_url'] = category_url\n",
    "\n",
    "\n",
    "df.to_csv('categories.csv', index=False)\n",
    "driver.quit()"
   ]
  },
  {
   "cell_type": "code",
   "execution_count": null,
   "id": "acbf13cd",
   "metadata": {},
   "outputs": [],
   "source": []
  },
  {
   "cell_type": "code",
   "execution_count": null,
   "id": "dcf42749",
   "metadata": {},
   "outputs": [],
   "source": []
  },
  {
   "cell_type": "code",
   "execution_count": null,
   "id": "19a518ff",
   "metadata": {},
   "outputs": [],
   "source": []
  },
  {
   "cell_type": "code",
   "execution_count": null,
   "id": "0f2a1926",
   "metadata": {},
   "outputs": [],
   "source": []
  },
  {
   "cell_type": "code",
   "execution_count": null,
   "id": "6d639a72",
   "metadata": {},
   "outputs": [],
   "source": []
  },
  {
   "cell_type": "code",
   "execution_count": null,
   "id": "b83bf22d",
   "metadata": {},
   "outputs": [],
   "source": []
  },
  {
   "cell_type": "code",
   "execution_count": null,
   "id": "4a56b1ac",
   "metadata": {},
   "outputs": [],
   "source": []
  },
  {
   "cell_type": "code",
   "execution_count": null,
   "id": "2db1b913",
   "metadata": {},
   "outputs": [],
   "source": []
  }
 ],
 "metadata": {
  "kernelspec": {
   "display_name": "Python 3 (ipykernel)",
   "language": "python",
   "name": "python3"
  },
  "language_info": {
   "codemirror_mode": {
    "name": "ipython",
    "version": 3
   },
   "file_extension": ".py",
   "mimetype": "text/x-python",
   "name": "python",
   "nbconvert_exporter": "python",
   "pygments_lexer": "ipython3",
   "version": "3.9.13"
  }
 },
 "nbformat": 4,
 "nbformat_minor": 5
}
